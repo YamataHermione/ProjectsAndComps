{
  "nbformat": 4,
  "nbformat_minor": 0,
  "metadata": {
    "colab": {
      "name": "Untitled2.ipynb",
      "provenance": [],
      "collapsed_sections": []
    },
    "kernelspec": {
      "name": "python3",
      "display_name": "Python 3"
    },
    "language_info": {
      "name": "python"
    }
  },
  "cells": [
    {
      "cell_type": "code",
      "execution_count": 1,
      "metadata": {
        "id": "AeQBM8zlGmNa"
      },
      "outputs": [],
      "source": [
        "import pandas as pd\n",
        "import numpy as np\n",
        "\n",
        "import matplotlib.pyplot as plt\n",
        "%matplotlib inline\n",
        "\n",
        "import warnings\n",
        "warnings.filterwarnings('ignore')"
      ]
    },
    {
      "cell_type": "code",
      "source": [
        "data = pd.read_csv('drive/MyDrive/heart_disease_health_indicators_BRFSS2015.csv')"
      ],
      "metadata": {
        "id": "DqoZ9Xx-K7OV"
      },
      "execution_count": 2,
      "outputs": []
    },
    {
      "cell_type": "code",
      "source": [
        "target = 'HeartDiseaseorAttack'\n",
        "ordinal_features = ['Education', 'Age', 'PhysHlth', 'MentHlth','GenHlth','Income']\n",
        "categorical_features = ['Sex', 'HighBP', 'HighChol', 'CholCheck', 'Smoker', 'Stroke', 'PhysActivity', 'Fruits', 'Veggies', 'Diabetes', 'HvyAlcoholConsump', 'AnyHealthcare', 'NoDocbcCost', 'DiffWalk']\n",
        "continuous_features = ['BMI']\n",
        "health = ['PhysActivity', 'Fruits', 'Veggies', 'NoDocbcCost']\n",
        "unhealth = ['HighBP', 'HighChol', 'CholCheck', 'Smoker', 'Stroke', 'Diabetes', 'HvyAlcoholConsump', 'AnyHealthcare']"
      ],
      "metadata": {
        "id": "OMoH-e43K-br"
      },
      "execution_count": 3,
      "outputs": []
    },
    {
      "cell_type": "code",
      "source": [
        "inter = health + unhealth"
      ],
      "metadata": {
        "id": "92MXg-cULMv7"
      },
      "execution_count": 4,
      "outputs": []
    },
    {
      "cell_type": "markdown",
      "source": [
        "1. Prapare data\n",
        "  + Unbalanced\n",
        "  + balanced\n",
        "  + split data"
      ],
      "metadata": {
        "id": "hCCCAPPYLWBF"
      }
    },
    {
      "cell_type": "code",
      "source": [
        "## Split data into train_val and test\n",
        "from sklearn.model_selection import train_test_split\n",
        "train_val, test = train_test_split(data, test_size = 0.2, stratify=data[target].values, random_state=0)\n",
        "\n",
        "X_train_val = train_val.drop(columns=[target])\n",
        "y_train_val = train_val[target]\n",
        "X_train, X_val, y_train, y_val = train_test_split(X_train_val, y_train_val, stratify=y_train_val.values, test_size=0.2, random_state=0)\n",
        "X_test = test.drop(columns=[target])\n",
        "y_test = test[target]\n",
        "\n",
        "## Get balanced data\n",
        "from numpy.random import MT19937\n",
        "from numpy.random import RandomState, SeedSequence\n",
        "def under_sample(label, target):\n",
        "    rand_state = RandomState(MT19937(SeedSequence(123456789)))\n",
        "    target_usamp = target[target == label]\n",
        "    target_osamp = target[target != label]\n",
        "    resampled_idx = rand_state.choice(target_osamp.index, size=len(target_usamp))\n",
        "    \n",
        "    return resampled_idx\n",
        "\n",
        "rsp_idx = under_sample(1, y_train_val)\n",
        "data_balanced_0 = train_val.loc[rsp_idx, :]\n",
        "data_label_1 = train_val[y_train_val == 1]\n",
        "print(data_balanced_0.shape, data_label_1.shape)\n",
        "balanced_data = pd.concat([data_balanced_0, data_label_1], axis=0)"
      ],
      "metadata": {
        "colab": {
          "base_uri": "https://localhost:8080/"
        },
        "id": "VlEZeRqULkO-",
        "outputId": "6a0ab8e0-3420-454c-9c72-de39a00e284a"
      },
      "execution_count": 5,
      "outputs": [
        {
          "output_type": "stream",
          "name": "stdout",
          "text": [
            "(19114, 22) (19114, 22)\n"
          ]
        }
      ]
    },
    {
      "cell_type": "code",
      "source": [
        "import lightgbm as lgb"
      ],
      "metadata": {
        "id": "xqFs-IHOMHpy"
      },
      "execution_count": 6,
      "outputs": []
    },
    {
      "cell_type": "code",
      "source": [
        "from sklearn.model_selection import StratifiedKFold\n",
        "def target_enc(df, cols, target):\n",
        "    X, y = df[cols], df[target]\n",
        "    skf = StratifiedKFold(n_splits=5, shuffle=True)\n",
        "    target_mean_features = []\n",
        "    for col in cols:\n",
        "        colname = col + '_target_mean'\n",
        "        target_mean_features.append(colname)\n",
        "        df[colname] = 0\n",
        "    for tr_idx, val_idx in skf.split(X,y):\n",
        "        X_train, X_val = df.iloc[tr_idx], df.iloc[val_idx]\n",
        "        for col in cols:\n",
        "            mean = X_train.groupby(by=col)[target].mean()\n",
        "            df[col+'_target_mean'].iloc[val_idx] = X_val[col].map(mean)\n",
        "    prior = df[target].mean()\n",
        "    df[target_mean_features].fillna(prior, inplace=True)\n",
        "    \n",
        "    \n",
        "    #regularization\n",
        "    \n",
        "    for feature in target_mean_features:\n",
        "        df[feature] = df[feature] * len(df) + df[feature].nunique() * prior\n",
        "        df[feature] = df[feature] / (len(df) + df[feature].nunique())\n",
        "    return df[target_mean_features]\n",
        "\n",
        "def prepare_train(train, target):\n",
        "    train['sumHealth'] = train[health].sum(axis=1)\n",
        "    train['sumUnhealth'] = train[unhealth].sum(axis=1)\n",
        "    train['diff_health'] = train['sumHealth'] - train['sumUnhealth']\n",
        "\n",
        "    ## Label encoding and interactive labels\n",
        "    features_mean_enc = categorical_features\n",
        "    mean_enc_cat = target_enc(train[categorical_features+[target]], categorical_features, target)\n",
        "    #mean_enc_ord = target_enc(train[ordinal_features + [target]], ordinal_features, target)\n",
        "    \n",
        "    train = pd.concat([train.drop(columns=features_mean_enc), mean_enc_cat], axis=1)\n",
        "    \n",
        "    for i in inter:\n",
        "      for j in inter:\n",
        "        if i!=j:\n",
        "          train[i+'|'+j] = train[i+'_target_mean'] * train[j+'_target_mean']\n",
        "\n",
        "            \n",
        "    return train\n",
        "\n",
        "\n",
        "def prepare_test(test, train, target):\n",
        "    test['sumHealth'] = test[health].sum(axis=1)\n",
        "    test['sumUnhealth'] = test[unhealth].sum(axis=1)\n",
        "    test['diff_health'] = test['sumHealth'] - test['sumUnhealth']\n",
        "    \n",
        "    features_to_enc = categorical_features\n",
        "    for feature in features_to_enc:\n",
        "        test[feature + '_target_mean'] = test[feature].map(train.groupby(by=feature)[target].mean())\n",
        "        \n",
        "    prior = train[target].mean()\n",
        "    test[features_to_enc].fillna(prior, inplace=True)\n",
        "    \n",
        "    #Smooth\n",
        "    for feature in features_to_enc:\n",
        "        test[feature] = test[feature] * len(test) + test[feature].nunique() * prior\n",
        "        test[feature] = test[feature] / (len(test) + test[feature].nunique())\n",
        "    \n",
        "    for i in inter:\n",
        "      for j in inter:\n",
        "        if i!=j:\n",
        "          test[i+'|'+j] = test[i+'_target_mean'] * test[j+'_target_mean']\n",
        "    \n",
        "    test = test.drop(columns=features_to_enc)\n",
        "    return test\n",
        "\n",
        "def prepare(train_val, X_test, y_test, target):\n",
        "    train = prepare_train(train_val, target)\n",
        "    X_train, X_val, y_train, y_val = train_test_split(train.drop(columns=[target]), train[target], test_size=0.1)\n",
        "    test = pd.concat([X_test, y_test], axis=1)\n",
        "    test_set = prepare_test(test, train_val, target)\n",
        "    X_test_ = test_set.drop(columns=[target])\n",
        "    y_test_ = test_set[target]\n",
        "\n",
        "\n",
        "    return X_train, X_val, y_train, y_val, X_test_, y_test_"
      ],
      "metadata": {
        "id": "RRpWX4ZKNHYV"
      },
      "execution_count": 7,
      "outputs": []
    },
    {
      "cell_type": "code",
      "source": [
        "X_train_, X_val_, y_train_, y_val_, X_test_, y_test_ = prepare(balanced_data, X_test, y_test, target)"
      ],
      "metadata": {
        "id": "4C2b3iQWO0N9"
      },
      "execution_count": 8,
      "outputs": []
    },
    {
      "cell_type": "markdown",
      "source": [
        "### We use label encoding and interactive features and see improvement on SVC LogisticRegression and RandomForest"
      ],
      "metadata": {
        "id": "R8R1hkdjM1j2"
      }
    },
    {
      "cell_type": "code",
      "source": [
        "from sklearn.svm import SVC\n",
        "from sklearn.ensemble import RandomForestClassifier\n",
        "from sklearn.linear_model import LogisticRegression\n",
        "\n",
        "clfs = [SVC(), RandomForestClassifier(), LogisticRegression()]\n",
        "\n",
        "X_ = pd.concat([X_train_, X_val_], axis=0)\n",
        "y_ = pd.concat([y_train_, y_val_], axis=0)\n",
        "for clf in clfs:\n",
        "  clf.fit(X_train_, y_train_)\n",
        "  print('{} score on val is {}' .format(clf.__class__.__name__, clf.score(X_val_, y_val_)))\n",
        "  clf.fit(X_, y_)\n",
        "  print('{} score on test is {}' .format(clf.__class__.__name__, clf.score(X_test_, y_test_)))\n",
        "  "
      ],
      "metadata": {
        "colab": {
          "base_uri": "https://localhost:8080/"
        },
        "id": "HVlNNB51NDO6",
        "outputId": "288a8138-3cc8-489f-8a82-3610214a0173"
      },
      "execution_count": 9,
      "outputs": [
        {
          "output_type": "stream",
          "name": "stdout",
          "text": [
            "SVC score on val is 0.7590897201150929\n",
            "SVC score on test is 0.6995230211289813\n",
            "RandomForestClassifier score on val is 0.7501961810096782\n",
            "RandomForestClassifier score on test is 0.7258751182592242\n",
            "LogisticRegression score on val is 0.7637980643473712\n",
            "LogisticRegression score on test is 0.7411896877956481\n"
          ]
        }
      ]
    },
    {
      "cell_type": "code",
      "source": [
        "from sklearn.svm import SVC\n",
        "from sklearn.ensemble import RandomForestClassifier\n",
        "from sklearn.linear_model import LogisticRegression\n",
        "\n",
        "X_train_u, X_val_u, y_train_u, y_val_u, X_test_, y_test_ = prepare(train_val, X_test, y_test, target)\n",
        "clfs = [RandomForestClassifier(), LogisticRegression()]\n",
        "\n",
        "X_u = pd.concat([X_train_u, X_val_u], axis=0)\n",
        "y_u = pd.concat([y_train_u, y_val_u], axis=0)\n",
        "for clf in clfs:\n",
        "  clf.fit(X_u, y_u)\n",
        "  print('{} score on test is {}' .format(clf.__class__.__name__, clf.score(X_test_, y_test_)))\n",
        "  "
      ],
      "metadata": {
        "colab": {
          "base_uri": "https://localhost:8080/"
        },
        "id": "k8MifxunRjCk",
        "outputId": "1a69e12b-eb7e-47bb-fccb-99c0934c7ac0"
      },
      "execution_count": 9,
      "outputs": [
        {
          "output_type": "stream",
          "name": "stdout",
          "text": [
            "RandomForestClassifier score on test is 0.9067131819615263\n",
            "LogisticRegression score on test is 0.9068314411857458\n"
          ]
        }
      ]
    },
    {
      "cell_type": "code",
      "source": [
        "params = {'boosting_type': 'gbdt', 'objective': 'binary', 'n_estimators':200,\n",
        "              'num_leaves': 200, 'learning_rate': 0.05, 'max_bin': 512, 'max_depth' : 10, \n",
        "              'subsample_for_bin': 200, 'subsample': 1, 'subsample_freq': 1,\n",
        "              'feature_fraction': 0.8, 'bagging_fraction': 0.8, 'reg_alpha': 5, 'reg_lambda': 2, \n",
        "              'metric': 'auc'}"
      ],
      "metadata": {
        "id": "8w0MBEy2WY0q"
      },
      "execution_count": 22,
      "outputs": []
    },
    {
      "cell_type": "code",
      "source": [
        "lgbclf = lgb.LGBMClassifier(**params)\n",
        "lgbclf.fit(X_u, y_u, eval_set=[(X_val_u, y_val_u)], early_stopping_rounds=100)\n"
      ],
      "metadata": {
        "colab": {
          "base_uri": "https://localhost:8080/"
        },
        "id": "EHEGZiuOUmzz",
        "outputId": "7de108bf-aa9f-4f29-ff4f-a83c0fdaf75e"
      },
      "execution_count": 23,
      "outputs": [
        {
          "output_type": "stream",
          "name": "stdout",
          "text": [
            "[1]\tvalid_0's auc: 0.810607\n",
            "Training until validation scores don't improve for 100 rounds.\n",
            "[2]\tvalid_0's auc: 0.824293\n",
            "[3]\tvalid_0's auc: 0.84236\n",
            "[4]\tvalid_0's auc: 0.84719\n",
            "[5]\tvalid_0's auc: 0.849766\n",
            "[6]\tvalid_0's auc: 0.850983\n",
            "[7]\tvalid_0's auc: 0.851136\n",
            "[8]\tvalid_0's auc: 0.852592\n",
            "[9]\tvalid_0's auc: 0.854019\n",
            "[10]\tvalid_0's auc: 0.85442\n",
            "[11]\tvalid_0's auc: 0.854965\n",
            "[12]\tvalid_0's auc: 0.855236\n",
            "[13]\tvalid_0's auc: 0.855715\n",
            "[14]\tvalid_0's auc: 0.856076\n",
            "[15]\tvalid_0's auc: 0.856619\n",
            "[16]\tvalid_0's auc: 0.856698\n",
            "[17]\tvalid_0's auc: 0.85723\n",
            "[18]\tvalid_0's auc: 0.857864\n",
            "[19]\tvalid_0's auc: 0.858168\n",
            "[20]\tvalid_0's auc: 0.85839\n",
            "[21]\tvalid_0's auc: 0.858597\n",
            "[22]\tvalid_0's auc: 0.858959\n",
            "[23]\tvalid_0's auc: 0.85917\n",
            "[24]\tvalid_0's auc: 0.859546\n",
            "[25]\tvalid_0's auc: 0.859812\n",
            "[26]\tvalid_0's auc: 0.860126\n",
            "[27]\tvalid_0's auc: 0.860288\n",
            "[28]\tvalid_0's auc: 0.860429\n",
            "[29]\tvalid_0's auc: 0.860699\n",
            "[30]\tvalid_0's auc: 0.861046\n",
            "[31]\tvalid_0's auc: 0.861299\n",
            "[32]\tvalid_0's auc: 0.861719\n",
            "[33]\tvalid_0's auc: 0.862132\n",
            "[34]\tvalid_0's auc: 0.862243\n",
            "[35]\tvalid_0's auc: 0.862694\n",
            "[36]\tvalid_0's auc: 0.862911\n",
            "[37]\tvalid_0's auc: 0.863117\n",
            "[38]\tvalid_0's auc: 0.863325\n",
            "[39]\tvalid_0's auc: 0.86361\n",
            "[40]\tvalid_0's auc: 0.863866\n",
            "[41]\tvalid_0's auc: 0.864123\n",
            "[42]\tvalid_0's auc: 0.864439\n",
            "[43]\tvalid_0's auc: 0.864693\n",
            "[44]\tvalid_0's auc: 0.865001\n",
            "[45]\tvalid_0's auc: 0.865236\n",
            "[46]\tvalid_0's auc: 0.86554\n",
            "[47]\tvalid_0's auc: 0.865741\n",
            "[48]\tvalid_0's auc: 0.865974\n",
            "[49]\tvalid_0's auc: 0.866227\n",
            "[50]\tvalid_0's auc: 0.866597\n",
            "[51]\tvalid_0's auc: 0.866848\n",
            "[52]\tvalid_0's auc: 0.867107\n",
            "[53]\tvalid_0's auc: 0.867231\n",
            "[54]\tvalid_0's auc: 0.867461\n",
            "[55]\tvalid_0's auc: 0.867612\n",
            "[56]\tvalid_0's auc: 0.867862\n",
            "[57]\tvalid_0's auc: 0.868138\n",
            "[58]\tvalid_0's auc: 0.868409\n",
            "[59]\tvalid_0's auc: 0.86866\n",
            "[60]\tvalid_0's auc: 0.868939\n",
            "[61]\tvalid_0's auc: 0.869123\n",
            "[62]\tvalid_0's auc: 0.869265\n",
            "[63]\tvalid_0's auc: 0.869436\n",
            "[64]\tvalid_0's auc: 0.869692\n",
            "[65]\tvalid_0's auc: 0.869951\n",
            "[66]\tvalid_0's auc: 0.870189\n",
            "[67]\tvalid_0's auc: 0.870397\n",
            "[68]\tvalid_0's auc: 0.870607\n",
            "[69]\tvalid_0's auc: 0.870839\n",
            "[70]\tvalid_0's auc: 0.871014\n",
            "[71]\tvalid_0's auc: 0.871279\n",
            "[72]\tvalid_0's auc: 0.87148\n",
            "[73]\tvalid_0's auc: 0.871668\n",
            "[74]\tvalid_0's auc: 0.871867\n",
            "[75]\tvalid_0's auc: 0.87208\n",
            "[76]\tvalid_0's auc: 0.872234\n",
            "[77]\tvalid_0's auc: 0.872405\n",
            "[78]\tvalid_0's auc: 0.872565\n",
            "[79]\tvalid_0's auc: 0.872762\n",
            "[80]\tvalid_0's auc: 0.87294\n",
            "[81]\tvalid_0's auc: 0.873095\n",
            "[82]\tvalid_0's auc: 0.873315\n",
            "[83]\tvalid_0's auc: 0.873528\n",
            "[84]\tvalid_0's auc: 0.873705\n",
            "[85]\tvalid_0's auc: 0.873899\n",
            "[86]\tvalid_0's auc: 0.87407\n",
            "[87]\tvalid_0's auc: 0.874242\n",
            "[88]\tvalid_0's auc: 0.874479\n",
            "[89]\tvalid_0's auc: 0.874746\n",
            "[90]\tvalid_0's auc: 0.875016\n",
            "[91]\tvalid_0's auc: 0.875266\n",
            "[92]\tvalid_0's auc: 0.875466\n",
            "[93]\tvalid_0's auc: 0.875617\n",
            "[94]\tvalid_0's auc: 0.875864\n",
            "[95]\tvalid_0's auc: 0.876011\n",
            "[96]\tvalid_0's auc: 0.876215\n",
            "[97]\tvalid_0's auc: 0.8764\n",
            "[98]\tvalid_0's auc: 0.876567\n",
            "[99]\tvalid_0's auc: 0.876772\n",
            "[100]\tvalid_0's auc: 0.876961\n",
            "[101]\tvalid_0's auc: 0.877106\n",
            "[102]\tvalid_0's auc: 0.877284\n",
            "[103]\tvalid_0's auc: 0.877469\n",
            "[104]\tvalid_0's auc: 0.877632\n",
            "[105]\tvalid_0's auc: 0.877835\n",
            "[106]\tvalid_0's auc: 0.878043\n",
            "[107]\tvalid_0's auc: 0.878179\n",
            "[108]\tvalid_0's auc: 0.878394\n",
            "[109]\tvalid_0's auc: 0.878611\n",
            "[110]\tvalid_0's auc: 0.878824\n",
            "[111]\tvalid_0's auc: 0.879071\n",
            "[112]\tvalid_0's auc: 0.879186\n",
            "[113]\tvalid_0's auc: 0.879437\n",
            "[114]\tvalid_0's auc: 0.879598\n",
            "[115]\tvalid_0's auc: 0.879791\n",
            "[116]\tvalid_0's auc: 0.87997\n",
            "[117]\tvalid_0's auc: 0.880213\n",
            "[118]\tvalid_0's auc: 0.880357\n",
            "[119]\tvalid_0's auc: 0.88054\n",
            "[120]\tvalid_0's auc: 0.880714\n",
            "[121]\tvalid_0's auc: 0.880939\n",
            "[122]\tvalid_0's auc: 0.881084\n",
            "[123]\tvalid_0's auc: 0.881243\n",
            "[124]\tvalid_0's auc: 0.881368\n",
            "[125]\tvalid_0's auc: 0.881536\n",
            "[126]\tvalid_0's auc: 0.881753\n",
            "[127]\tvalid_0's auc: 0.881969\n",
            "[128]\tvalid_0's auc: 0.882113\n",
            "[129]\tvalid_0's auc: 0.882213\n",
            "[130]\tvalid_0's auc: 0.882385\n",
            "[131]\tvalid_0's auc: 0.8825\n",
            "[132]\tvalid_0's auc: 0.882685\n",
            "[133]\tvalid_0's auc: 0.882904\n",
            "[134]\tvalid_0's auc: 0.883034\n",
            "[135]\tvalid_0's auc: 0.883212\n",
            "[136]\tvalid_0's auc: 0.883421\n",
            "[137]\tvalid_0's auc: 0.883526\n",
            "[138]\tvalid_0's auc: 0.883756\n",
            "[139]\tvalid_0's auc: 0.883973\n",
            "[140]\tvalid_0's auc: 0.884141\n",
            "[141]\tvalid_0's auc: 0.884218\n",
            "[142]\tvalid_0's auc: 0.884352\n",
            "[143]\tvalid_0's auc: 0.884519\n",
            "[144]\tvalid_0's auc: 0.884694\n",
            "[145]\tvalid_0's auc: 0.884863\n",
            "[146]\tvalid_0's auc: 0.885021\n",
            "[147]\tvalid_0's auc: 0.885186\n",
            "[148]\tvalid_0's auc: 0.88528\n",
            "[149]\tvalid_0's auc: 0.885526\n",
            "[150]\tvalid_0's auc: 0.885694\n",
            "[151]\tvalid_0's auc: 0.885827\n",
            "[152]\tvalid_0's auc: 0.886029\n",
            "[153]\tvalid_0's auc: 0.886203\n",
            "[154]\tvalid_0's auc: 0.88637\n",
            "[155]\tvalid_0's auc: 0.886518\n",
            "[156]\tvalid_0's auc: 0.886673\n",
            "[157]\tvalid_0's auc: 0.886834\n",
            "[158]\tvalid_0's auc: 0.886899\n",
            "[159]\tvalid_0's auc: 0.887105\n",
            "[160]\tvalid_0's auc: 0.887301\n",
            "[161]\tvalid_0's auc: 0.887372\n",
            "[162]\tvalid_0's auc: 0.887496\n",
            "[163]\tvalid_0's auc: 0.887675\n",
            "[164]\tvalid_0's auc: 0.887868\n",
            "[165]\tvalid_0's auc: 0.887997\n",
            "[166]\tvalid_0's auc: 0.888148\n",
            "[167]\tvalid_0's auc: 0.888316\n",
            "[168]\tvalid_0's auc: 0.888488\n",
            "[169]\tvalid_0's auc: 0.888631\n",
            "[170]\tvalid_0's auc: 0.888732\n",
            "[171]\tvalid_0's auc: 0.888852\n",
            "[172]\tvalid_0's auc: 0.889007\n",
            "[173]\tvalid_0's auc: 0.889128\n",
            "[174]\tvalid_0's auc: 0.889322\n",
            "[175]\tvalid_0's auc: 0.889456\n",
            "[176]\tvalid_0's auc: 0.889665\n",
            "[177]\tvalid_0's auc: 0.889826\n",
            "[178]\tvalid_0's auc: 0.889965\n",
            "[179]\tvalid_0's auc: 0.89009\n",
            "[180]\tvalid_0's auc: 0.890199\n",
            "[181]\tvalid_0's auc: 0.890351\n",
            "[182]\tvalid_0's auc: 0.890494\n",
            "[183]\tvalid_0's auc: 0.890627\n",
            "[184]\tvalid_0's auc: 0.890754\n",
            "[185]\tvalid_0's auc: 0.890886\n",
            "[186]\tvalid_0's auc: 0.890995\n",
            "[187]\tvalid_0's auc: 0.891123\n",
            "[188]\tvalid_0's auc: 0.891256\n",
            "[189]\tvalid_0's auc: 0.891359\n",
            "[190]\tvalid_0's auc: 0.891532\n",
            "[191]\tvalid_0's auc: 0.891623\n",
            "[192]\tvalid_0's auc: 0.89175\n",
            "[193]\tvalid_0's auc: 0.891877\n",
            "[194]\tvalid_0's auc: 0.892055\n",
            "[195]\tvalid_0's auc: 0.892248\n",
            "[196]\tvalid_0's auc: 0.892357\n",
            "[197]\tvalid_0's auc: 0.892517\n",
            "[198]\tvalid_0's auc: 0.89267\n",
            "[199]\tvalid_0's auc: 0.892751\n",
            "[200]\tvalid_0's auc: 0.892888\n",
            "Did not meet early stopping. Best iteration is:\n",
            "[200]\tvalid_0's auc: 0.892888\n"
          ]
        },
        {
          "output_type": "execute_result",
          "data": {
            "text/plain": [
              "LGBMClassifier(bagging_fraction=0.8, feature_fraction=0.8, learning_rate=0.05,\n",
              "               max_bin=512, max_depth=10, metric='auc', n_estimators=200,\n",
              "               num_leaves=200, objective='binary', reg_alpha=5, reg_lambda=2,\n",
              "               subsample=1, subsample_for_bin=200, subsample_freq=1)"
            ]
          },
          "metadata": {},
          "execution_count": 23
        }
      ]
    },
    {
      "cell_type": "markdown",
      "source": [
        "+ Other metrics: Recall, AUC_Roc score"
      ],
      "metadata": {
        "id": "qXBSXWqtW0PM"
      }
    },
    {
      "cell_type": "code",
      "source": [
        "print(lgbclf.score(X_test_, y_test_))"
      ],
      "metadata": {
        "colab": {
          "base_uri": "https://localhost:8080/"
        },
        "id": "kc9tvxyPW6C1",
        "outputId": "4b06e7bd-22d4-42ad-ff96-6715acd9a10b"
      },
      "execution_count": 20,
      "outputs": [
        {
          "output_type": "stream",
          "name": "stdout",
          "text": [
            "0.9066737622201199\n"
          ]
        }
      ]
    },
    {
      "cell_type": "code",
      "source": [
        "from sklearn.metrics import recall_score\n",
        "\n",
        "pred = lgbclf.predict(X_test_)\n",
        "recall_score_ = recall_score(y_test_, pred)\n",
        "print(recall_score_)\n"
      ],
      "metadata": {
        "colab": {
          "base_uri": "https://localhost:8080/"
        },
        "id": "xWOa1_EXrGOp",
        "outputId": "164e8371-9dc6-4753-cb9e-3b211cdbc591"
      },
      "execution_count": 24,
      "outputs": [
        {
          "output_type": "stream",
          "name": "stdout",
          "text": [
            "0.11236660389202763\n"
          ]
        }
      ]
    },
    {
      "cell_type": "code",
      "source": [
        "\n",
        "for clf in clfs:\n",
        "  y_pred = clf.predict(X_test_)\n",
        "  recall_score_ = recall_score(y_test_, y_pred)\n",
        "  print(recall_score_)"
      ],
      "metadata": {
        "colab": {
          "base_uri": "https://localhost:8080/"
        },
        "id": "lTFa2xIatnj_",
        "outputId": "46af7f5d-6351-4275-e7c6-9c237a62ef37"
      },
      "execution_count": 25,
      "outputs": [
        {
          "output_type": "stream",
          "name": "stdout",
          "text": [
            "0.07407407407407407\n",
            "0.11445909186022181\n"
          ]
        }
      ]
    },
    {
      "cell_type": "code",
      "source": [
        ""
      ],
      "metadata": {
        "id": "Q_RPwwjUt1h1"
      },
      "execution_count": null,
      "outputs": []
    },
    {
      "cell_type": "markdown",
      "source": [
        "### Performance of vanilla model"
      ],
      "metadata": {
        "id": "7luCoVavt3P9"
      }
    },
    {
      "cell_type": "code",
      "source": [
        "lgbclf_vani = lgb.LGBMClassifier(**params)\n",
        "lgbclf_vani.fit(X_train, y_train, eval_set=[(X_val, y_val)], categorical_feature = categorical_features, early_stopping_rounds=20)"
      ],
      "metadata": {
        "colab": {
          "base_uri": "https://localhost:8080/"
        },
        "id": "ni6G3UDSvVms",
        "outputId": "c7e2f7a2-87f9-4b9a-8804-e06d3fc588eb"
      },
      "execution_count": 27,
      "outputs": [
        {
          "output_type": "stream",
          "name": "stdout",
          "text": [
            "[1]\tvalid_0's auc: 0.832779\n",
            "Training until validation scores don't improve for 20 rounds.\n",
            "[2]\tvalid_0's auc: 0.841611\n",
            "[3]\tvalid_0's auc: 0.842772\n",
            "[4]\tvalid_0's auc: 0.844267\n",
            "[5]\tvalid_0's auc: 0.844823\n",
            "[6]\tvalid_0's auc: 0.844978\n",
            "[7]\tvalid_0's auc: 0.846427\n",
            "[8]\tvalid_0's auc: 0.846037\n",
            "[9]\tvalid_0's auc: 0.846525\n",
            "[10]\tvalid_0's auc: 0.84663\n",
            "[11]\tvalid_0's auc: 0.846847\n",
            "[12]\tvalid_0's auc: 0.847175\n",
            "[13]\tvalid_0's auc: 0.846896\n",
            "[14]\tvalid_0's auc: 0.847012\n",
            "[15]\tvalid_0's auc: 0.847302\n",
            "[16]\tvalid_0's auc: 0.847221\n",
            "[17]\tvalid_0's auc: 0.847083\n",
            "[18]\tvalid_0's auc: 0.847285\n",
            "[19]\tvalid_0's auc: 0.847598\n",
            "[20]\tvalid_0's auc: 0.847875\n",
            "[21]\tvalid_0's auc: 0.847819\n",
            "[22]\tvalid_0's auc: 0.847767\n",
            "[23]\tvalid_0's auc: 0.847699\n",
            "[24]\tvalid_0's auc: 0.848078\n",
            "[25]\tvalid_0's auc: 0.848101\n",
            "[26]\tvalid_0's auc: 0.848206\n",
            "[27]\tvalid_0's auc: 0.848307\n",
            "[28]\tvalid_0's auc: 0.848384\n",
            "[29]\tvalid_0's auc: 0.848517\n",
            "[30]\tvalid_0's auc: 0.848691\n",
            "[31]\tvalid_0's auc: 0.848872\n",
            "[32]\tvalid_0's auc: 0.848965\n",
            "[33]\tvalid_0's auc: 0.848904\n",
            "[34]\tvalid_0's auc: 0.848992\n",
            "[35]\tvalid_0's auc: 0.849011\n",
            "[36]\tvalid_0's auc: 0.849045\n",
            "[37]\tvalid_0's auc: 0.848966\n",
            "[38]\tvalid_0's auc: 0.849018\n",
            "[39]\tvalid_0's auc: 0.849104\n",
            "[40]\tvalid_0's auc: 0.849039\n",
            "[41]\tvalid_0's auc: 0.849007\n",
            "[42]\tvalid_0's auc: 0.848997\n",
            "[43]\tvalid_0's auc: 0.849113\n",
            "[44]\tvalid_0's auc: 0.849243\n",
            "[45]\tvalid_0's auc: 0.849249\n",
            "[46]\tvalid_0's auc: 0.849314\n",
            "[47]\tvalid_0's auc: 0.849393\n",
            "[48]\tvalid_0's auc: 0.849408\n",
            "[49]\tvalid_0's auc: 0.849372\n",
            "[50]\tvalid_0's auc: 0.849461\n",
            "[51]\tvalid_0's auc: 0.84946\n",
            "[52]\tvalid_0's auc: 0.849576\n",
            "[53]\tvalid_0's auc: 0.849589\n",
            "[54]\tvalid_0's auc: 0.849668\n",
            "[55]\tvalid_0's auc: 0.849616\n",
            "[56]\tvalid_0's auc: 0.849661\n",
            "[57]\tvalid_0's auc: 0.849638\n",
            "[58]\tvalid_0's auc: 0.849642\n",
            "[59]\tvalid_0's auc: 0.849653\n",
            "[60]\tvalid_0's auc: 0.849742\n",
            "[61]\tvalid_0's auc: 0.849758\n",
            "[62]\tvalid_0's auc: 0.849816\n",
            "[63]\tvalid_0's auc: 0.849858\n",
            "[64]\tvalid_0's auc: 0.8499\n",
            "[65]\tvalid_0's auc: 0.84993\n",
            "[66]\tvalid_0's auc: 0.849944\n",
            "[67]\tvalid_0's auc: 0.850014\n",
            "[68]\tvalid_0's auc: 0.849992\n",
            "[69]\tvalid_0's auc: 0.850036\n",
            "[70]\tvalid_0's auc: 0.850089\n",
            "[71]\tvalid_0's auc: 0.850067\n",
            "[72]\tvalid_0's auc: 0.850088\n",
            "[73]\tvalid_0's auc: 0.850099\n",
            "[74]\tvalid_0's auc: 0.850089\n",
            "[75]\tvalid_0's auc: 0.850085\n",
            "[76]\tvalid_0's auc: 0.850108\n",
            "[77]\tvalid_0's auc: 0.850138\n",
            "[78]\tvalid_0's auc: 0.850103\n",
            "[79]\tvalid_0's auc: 0.850136\n",
            "[80]\tvalid_0's auc: 0.850122\n",
            "[81]\tvalid_0's auc: 0.850162\n",
            "[82]\tvalid_0's auc: 0.850151\n",
            "[83]\tvalid_0's auc: 0.850172\n",
            "[84]\tvalid_0's auc: 0.850177\n",
            "[85]\tvalid_0's auc: 0.850181\n",
            "[86]\tvalid_0's auc: 0.850196\n",
            "[87]\tvalid_0's auc: 0.850228\n",
            "[88]\tvalid_0's auc: 0.850234\n",
            "[89]\tvalid_0's auc: 0.850229\n",
            "[90]\tvalid_0's auc: 0.850232\n",
            "[91]\tvalid_0's auc: 0.850224\n",
            "[92]\tvalid_0's auc: 0.850221\n",
            "[93]\tvalid_0's auc: 0.850256\n",
            "[94]\tvalid_0's auc: 0.850294\n",
            "[95]\tvalid_0's auc: 0.850329\n",
            "[96]\tvalid_0's auc: 0.850343\n",
            "[97]\tvalid_0's auc: 0.850307\n",
            "[98]\tvalid_0's auc: 0.850326\n",
            "[99]\tvalid_0's auc: 0.850359\n",
            "[100]\tvalid_0's auc: 0.850356\n",
            "[101]\tvalid_0's auc: 0.850389\n",
            "[102]\tvalid_0's auc: 0.850392\n",
            "[103]\tvalid_0's auc: 0.850402\n",
            "[104]\tvalid_0's auc: 0.850412\n",
            "[105]\tvalid_0's auc: 0.850398\n",
            "[106]\tvalid_0's auc: 0.850372\n",
            "[107]\tvalid_0's auc: 0.850381\n",
            "[108]\tvalid_0's auc: 0.850381\n",
            "[109]\tvalid_0's auc: 0.850368\n",
            "[110]\tvalid_0's auc: 0.850338\n",
            "[111]\tvalid_0's auc: 0.850339\n",
            "[112]\tvalid_0's auc: 0.850307\n",
            "[113]\tvalid_0's auc: 0.85028\n",
            "[114]\tvalid_0's auc: 0.850271\n",
            "[115]\tvalid_0's auc: 0.850288\n",
            "[116]\tvalid_0's auc: 0.850262\n",
            "[117]\tvalid_0's auc: 0.850235\n",
            "[118]\tvalid_0's auc: 0.850229\n",
            "[119]\tvalid_0's auc: 0.850237\n",
            "[120]\tvalid_0's auc: 0.850227\n",
            "[121]\tvalid_0's auc: 0.850217\n",
            "[122]\tvalid_0's auc: 0.850194\n",
            "[123]\tvalid_0's auc: 0.850194\n",
            "[124]\tvalid_0's auc: 0.850189\n",
            "Early stopping, best iteration is:\n",
            "[104]\tvalid_0's auc: 0.850412\n"
          ]
        },
        {
          "output_type": "execute_result",
          "data": {
            "text/plain": [
              "LGBMClassifier(bagging_fraction=0.8, feature_fraction=0.8, learning_rate=0.05,\n",
              "               max_bin=512, max_depth=10, metric='auc', n_estimators=200,\n",
              "               num_leaves=200, objective='binary', reg_alpha=5, reg_lambda=2,\n",
              "               subsample=1, subsample_for_bin=200, subsample_freq=1)"
            ]
          },
          "metadata": {},
          "execution_count": 27
        }
      ]
    },
    {
      "cell_type": "code",
      "source": [
        "lgbclf_vani.score(X_test, y_test)"
      ],
      "metadata": {
        "colab": {
          "base_uri": "https://localhost:8080/"
        },
        "id": "U7xOid6pvhWG",
        "outputId": "07b3e951-0e81-48f2-a4e4-1042954f66c3"
      },
      "execution_count": 29,
      "outputs": [
        {
          "output_type": "execute_result",
          "data": {
            "text/plain": [
              "0.9075804162724692"
            ]
          },
          "metadata": {},
          "execution_count": 29
        }
      ]
    },
    {
      "cell_type": "code",
      "source": [
        "pred = lgbclf_vani.predict(X_test)\n",
        "recall_score_ = recall_score(y_test, pred)\n",
        "print(recall_score_)"
      ],
      "metadata": {
        "colab": {
          "base_uri": "https://localhost:8080/"
        },
        "id": "kLMZylo3vkGt",
        "outputId": "fc4151cf-fe40-4ba8-f64d-c40143a9318a"
      },
      "execution_count": 32,
      "outputs": [
        {
          "output_type": "stream",
          "name": "stdout",
          "text": [
            "0.08600125549278091\n"
          ]
        }
      ]
    },
    {
      "cell_type": "markdown",
      "source": [
        "### Recall score on balanced data"
      ],
      "metadata": {
        "id": "0htiMriwyYry"
      }
    },
    {
      "cell_type": "code",
      "source": [
        "X_train_, X_val_, y_train_, y_val_, X_test_, y_test_ = prepare(balanced_data, X_test, y_test, target)"
      ],
      "metadata": {
        "id": "ZU8_1bQbv4zm"
      },
      "execution_count": 33,
      "outputs": []
    },
    {
      "cell_type": "code",
      "source": [
        "X_ = pd.concat([X_train_, X_val_], axis=0)\n",
        "y_ = pd.concat([y_train_, y_val_], axis=0)\n",
        "\n",
        "lgb_balanced = lgb.LGBMClassifier(**params)\n",
        "lgb_balanced.fit(X_, y_)\n",
        "print(recall_score(y_test_, lgb_balanced.predict(X_test_)))"
      ],
      "metadata": {
        "colab": {
          "base_uri": "https://localhost:8080/"
        },
        "id": "NbPpKxUpygmM",
        "outputId": "b3d13e87-d02f-4dfc-a0d6-82685c80158f"
      },
      "execution_count": 34,
      "outputs": [
        {
          "output_type": "stream",
          "name": "stdout",
          "text": [
            "0.8160703075957313\n"
          ]
        }
      ]
    },
    {
      "cell_type": "markdown",
      "source": [
        "### Recall score on balanced data without feature engineering"
      ],
      "metadata": {
        "id": "Gtf5kUsezY6l"
      }
    },
    {
      "cell_type": "code",
      "source": [
        "X_raw = balanced_data.drop(columns=[target, 'sumHealth', 'sumUnhealth', 'diff_health'])\n",
        "y_raw = balanced_data[target]\n",
        "\n",
        "lgb_balanced_vani = lgb.LGBMClassifier(**params)\n",
        "lgb_balanced_vani.fit(X_raw, y_raw)\n",
        "print(recall_score(y_test, lgb_balanced_vani.predict(X_test)))"
      ],
      "metadata": {
        "colab": {
          "base_uri": "https://localhost:8080/"
        },
        "id": "GQKcaYWlzBpZ",
        "outputId": "dda4dce3-2ee5-4ac1-cd9e-33d12aadffa1"
      },
      "execution_count": 39,
      "outputs": [
        {
          "output_type": "stream",
          "name": "stdout",
          "text": [
            "0.8162795563925508\n"
          ]
        }
      ]
    },
    {
      "cell_type": "code",
      "source": [
        ""
      ],
      "metadata": {
        "id": "M_oVb16NziYu"
      },
      "execution_count": null,
      "outputs": []
    }
  ]
}