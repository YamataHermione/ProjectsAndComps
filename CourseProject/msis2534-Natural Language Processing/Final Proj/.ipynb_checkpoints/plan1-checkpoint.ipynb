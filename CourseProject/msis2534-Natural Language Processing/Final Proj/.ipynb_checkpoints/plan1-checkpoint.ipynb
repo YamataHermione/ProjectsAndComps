{
 "cells": [
  {
   "cell_type": "markdown",
   "id": "4284a935-cefc-40a9-a6c7-c32084cc5dd3",
   "metadata": {},
   "source": [
    "## Plan A"
   ]
  },
  {
   "cell_type": "markdown",
   "id": "6e3c0cd7-cca9-4096-bbb3-d09e616e4bfa",
   "metadata": {},
   "source": [
    "1. A quick baseline(ordinal features/ no resample/ accuracy)\n",
    "2. simply use ordinal features + resample\n",
    "3. one hot features + resample\n",
    "4. target encoding + resample\n",
    "5. do not resample + best model above"
   ]
  },
  {
   "cell_type": "code",
   "execution_count": 1,
   "id": "e7d6dc6f-c622-4d8f-882e-a04be326282d",
   "metadata": {},
   "outputs": [],
   "source": [
    "import pandas as pd\n",
    "import numpy as np\n",
    "\n",
    "import matplotlib.pyplot as plt\n",
    "%matplotlib inline\n",
    "\n",
    "import warnings\n",
    "warnings.filterwarnings('ignore')"
   ]
  },
  {
   "cell_type": "code",
   "execution_count": 2,
   "id": "527b7f72-1b1a-484b-80b6-a774bcb21fb6",
   "metadata": {},
   "outputs": [],
   "source": [
    "data = pd.read_csv('heart_disease_health_indicators_BRFSS2015.csv')"
   ]
  },
  {
   "cell_type": "code",
   "execution_count": 3,
   "id": "2da7dd10-eb9b-4c3f-8f1c-223f82dee671",
   "metadata": {},
   "outputs": [],
   "source": [
    "target = 'HeartDiseaseorAttack'\n",
    "ordinal_features = ['Education', 'Age', 'PhysHlth', 'MentHlth','GenHlth']\n",
    "categorical_features = ['HighBP', 'HighChol', 'CholCheck', 'Smoker', 'Stroke', 'PhysActivity', 'Fruits', 'Veggies', 'Diabetes', 'HvyAlcoholConsump', 'AnyHealthcare', 'NoDocbcCost']\n",
    "continuous_features = ['BMI']"
   ]
  },
  {
   "cell_type": "markdown",
   "id": "892bc460-3e0b-451a-a5b6-03e032bccf53",
   "metadata": {},
   "source": [
    "### Split data into train_val and test"
   ]
  },
  {
   "cell_type": "code",
   "execution_count": 6,
   "id": "5aee4eb1-7829-4a14-b034-905fcbe79c33",
   "metadata": {},
   "outputs": [],
   "source": [
    "from sklearn.model_selection import train_test_split\n",
    "train_val, test = train_test_split(data, test_size = 0.2, stratify=data[target].values, random_state=0)"
   ]
  },
  {
   "cell_type": "markdown",
   "id": "0c4a8877-cfaf-469a-b3f2-90d58c5c800c",
   "metadata": {},
   "source": [
    "### A quick baseline"
   ]
  },
  {
   "cell_type": "code",
   "execution_count": 17,
   "id": "ea2351dc-e169-46fd-b43e-01ae300048b7",
   "metadata": {},
   "outputs": [],
   "source": [
    "X_train_val = train_val.drop(columns=[target])\n",
    "y_train_val = train_val[target]\n",
    "\n",
    "X_train, X_val, y_train, y_val = train_test_split(X_train_val, y_train_val, stratify=y_train_val.values, test_size=0.2, random_state=0)\n",
    "\n",
    "X_test = test.drop(columns=[target])\n",
    "y_test = test[target]"
   ]
  },
  {
   "cell_type": "code",
   "execution_count": 21,
   "id": "2d0d1b0c-fdb0-4be9-9c87-e8fa5eeeb539",
   "metadata": {
    "scrolled": true,
    "tags": []
   },
   "outputs": [
    {
     "name": "stdout",
     "output_type": "stream",
     "text": [
      "[LightGBM] [Warning] Unknown parameter: feature_name\n",
      "[1]\tvalid_0's auc: 0.827503\n",
      "[2]\tvalid_0's auc: 0.836467\n",
      "[3]\tvalid_0's auc: 0.838579\n",
      "[4]\tvalid_0's auc: 0.841272\n",
      "[5]\tvalid_0's auc: 0.841711\n",
      "[6]\tvalid_0's auc: 0.843057\n",
      "[7]\tvalid_0's auc: 0.843555\n",
      "[8]\tvalid_0's auc: 0.844125\n",
      "[9]\tvalid_0's auc: 0.844463\n",
      "[10]\tvalid_0's auc: 0.844355\n",
      "[11]\tvalid_0's auc: 0.844598\n",
      "[12]\tvalid_0's auc: 0.84503\n",
      "[13]\tvalid_0's auc: 0.84543\n",
      "[14]\tvalid_0's auc: 0.84562\n",
      "[15]\tvalid_0's auc: 0.845828\n",
      "[16]\tvalid_0's auc: 0.845898\n",
      "[17]\tvalid_0's auc: 0.846305\n",
      "[18]\tvalid_0's auc: 0.846624\n",
      "[19]\tvalid_0's auc: 0.846841\n",
      "[20]\tvalid_0's auc: 0.84684\n",
      "[21]\tvalid_0's auc: 0.846908\n",
      "[22]\tvalid_0's auc: 0.847066\n",
      "[23]\tvalid_0's auc: 0.847463\n",
      "[24]\tvalid_0's auc: 0.847438\n",
      "[25]\tvalid_0's auc: 0.847516\n",
      "[26]\tvalid_0's auc: 0.847622\n",
      "[27]\tvalid_0's auc: 0.847643\n",
      "[28]\tvalid_0's auc: 0.847785\n",
      "[29]\tvalid_0's auc: 0.847942\n",
      "[30]\tvalid_0's auc: 0.848156\n",
      "[31]\tvalid_0's auc: 0.848286\n",
      "[32]\tvalid_0's auc: 0.848222\n",
      "[33]\tvalid_0's auc: 0.848293\n",
      "[34]\tvalid_0's auc: 0.848384\n",
      "[35]\tvalid_0's auc: 0.848459\n",
      "[36]\tvalid_0's auc: 0.848488\n",
      "[37]\tvalid_0's auc: 0.848623\n",
      "[38]\tvalid_0's auc: 0.848776\n",
      "[39]\tvalid_0's auc: 0.848815\n",
      "[40]\tvalid_0's auc: 0.848837\n",
      "[41]\tvalid_0's auc: 0.848846\n",
      "[42]\tvalid_0's auc: 0.848946\n",
      "[43]\tvalid_0's auc: 0.849051\n",
      "[44]\tvalid_0's auc: 0.849098\n",
      "[45]\tvalid_0's auc: 0.849142\n",
      "[46]\tvalid_0's auc: 0.849217\n",
      "[47]\tvalid_0's auc: 0.849264\n",
      "[48]\tvalid_0's auc: 0.849274\n",
      "[49]\tvalid_0's auc: 0.849303\n",
      "[50]\tvalid_0's auc: 0.849332\n",
      "[51]\tvalid_0's auc: 0.849414\n",
      "[52]\tvalid_0's auc: 0.849458\n",
      "[53]\tvalid_0's auc: 0.849489\n",
      "[54]\tvalid_0's auc: 0.84949\n",
      "[55]\tvalid_0's auc: 0.849509\n",
      "[56]\tvalid_0's auc: 0.849528\n",
      "[57]\tvalid_0's auc: 0.849579\n",
      "[58]\tvalid_0's auc: 0.849596\n",
      "[59]\tvalid_0's auc: 0.849632\n",
      "[60]\tvalid_0's auc: 0.849655\n",
      "[61]\tvalid_0's auc: 0.84976\n",
      "[62]\tvalid_0's auc: 0.84982\n",
      "[63]\tvalid_0's auc: 0.849884\n",
      "[64]\tvalid_0's auc: 0.849897\n",
      "[65]\tvalid_0's auc: 0.849949\n",
      "[66]\tvalid_0's auc: 0.850025\n",
      "[67]\tvalid_0's auc: 0.85003\n",
      "[68]\tvalid_0's auc: 0.850083\n",
      "[69]\tvalid_0's auc: 0.850109\n",
      "[70]\tvalid_0's auc: 0.850123\n",
      "[71]\tvalid_0's auc: 0.850128\n",
      "[72]\tvalid_0's auc: 0.850196\n",
      "[73]\tvalid_0's auc: 0.850202\n",
      "[74]\tvalid_0's auc: 0.850209\n",
      "[75]\tvalid_0's auc: 0.850221\n",
      "[76]\tvalid_0's auc: 0.850254\n",
      "[77]\tvalid_0's auc: 0.850303\n",
      "[78]\tvalid_0's auc: 0.850361\n",
      "[79]\tvalid_0's auc: 0.850354\n",
      "[80]\tvalid_0's auc: 0.850369\n",
      "[81]\tvalid_0's auc: 0.850382\n",
      "[82]\tvalid_0's auc: 0.850433\n",
      "[83]\tvalid_0's auc: 0.850472\n",
      "[84]\tvalid_0's auc: 0.850509\n",
      "[85]\tvalid_0's auc: 0.850532\n",
      "[86]\tvalid_0's auc: 0.850529\n",
      "[87]\tvalid_0's auc: 0.850538\n",
      "[88]\tvalid_0's auc: 0.850562\n",
      "[89]\tvalid_0's auc: 0.85057\n",
      "[90]\tvalid_0's auc: 0.850602\n",
      "[91]\tvalid_0's auc: 0.85065\n",
      "[92]\tvalid_0's auc: 0.850658\n",
      "[93]\tvalid_0's auc: 0.850673\n",
      "[94]\tvalid_0's auc: 0.850697\n",
      "[95]\tvalid_0's auc: 0.85071\n",
      "[96]\tvalid_0's auc: 0.850716\n",
      "[97]\tvalid_0's auc: 0.850725\n",
      "[98]\tvalid_0's auc: 0.850736\n",
      "[99]\tvalid_0's auc: 0.850736\n",
      "[100]\tvalid_0's auc: 0.850746\n"
     ]
    },
    {
     "data": {
      "text/plain": [
       "LGBMClassifier(colsample_bytree=0.8,\n",
       "               feature_name=['HighBP', 'HighChol', 'CholCheck', 'BMI', 'Smoker',\n",
       "                             'Stroke', 'Diabetes', 'PhysActivity', 'Fruits',\n",
       "                             'Veggies', 'HvyAlcoholConsump', 'AnyHealthcare',\n",
       "                             'NoDocbcCost', 'GenHlth', 'MentHlth', 'PhysHlth',\n",
       "                             'DiffWalk', 'Sex', 'Age', 'Education', 'Income'],\n",
       "               learning_rate=0.05, max_bin=512, metric='auc', num_leaves=64,\n",
       "               objective='binary', reg_alpha=5, reg_lambda=10, subsample=1,\n",
       "               subsample_for_bin=200, subsample_freq=1)"
      ]
     },
     "execution_count": 21,
     "metadata": {},
     "output_type": "execute_result"
    }
   ],
   "source": [
    "import lightgbm as lgb\n",
    "from sklearn.pipeline import make_pipeline\n",
    "from sklearn.model_selection import GridSearchCV\n",
    "\n",
    "params = {'boosting_type': 'gbdt', 'objective': 'binary', \n",
    "              'num_leaves': 64, 'learning_rate': 0.05, 'max_bin': 512, \n",
    "              'subsample_for_bin': 200, 'subsample': 1, 'subsample_freq': 1,\n",
    "              'colsample_bytree': 0.8, 'reg_alpha': 5, 'reg_lambda': 10, \n",
    "              'metric': 'auc', 'feature_name' : list(X_train.columns)}\n",
    "\n",
    "lgbmclf = lgb.LGBMClassifier(**params)\n",
    "lgbmclf.fit(X_train, y_train, eval_set=[(X_val, y_val)], categorical_feature = categorical_features, early_stopping_rounds=20)"
   ]
  },
  {
   "cell_type": "code",
   "execution_count": 22,
   "id": "f3e3d28c-6637-4852-9a63-981ebca57c54",
   "metadata": {},
   "outputs": [
    {
     "data": {
      "text/plain": [
       "0.9075804162724692"
      ]
     },
     "execution_count": 22,
     "metadata": {},
     "output_type": "execute_result"
    }
   ],
   "source": [
    "lgbmclf.score(X_test, y_test)"
   ]
  },
  {
   "cell_type": "markdown",
   "id": "f361b26d-db43-4098-9877-fb25bc65229a",
   "metadata": {},
   "source": [
    "+ This is not a good accuracy, let us calculate the proportion of labels in data set"
   ]
  },
  {
   "cell_type": "code",
   "execution_count": 24,
   "id": "9600d097-87a9-4d3e-a1c3-ca46188ea857",
   "metadata": {},
   "outputs": [
    {
     "name": "stdout",
     "output_type": "stream",
     "text": [
      "Label 0 take 90.58 percent\n",
      "Label 1 take 9.42 percent\n"
     ]
    }
   ],
   "source": [
    "percent_1 = data['HeartDiseaseorAttack'].values.sum()/ len(data['HeartDiseaseorAttack'].values)\n",
    "percent_0 = 1-percent_1\n",
    "print('Label 0 take {:.2f} percent' .format(percent_0*100))\n",
    "print('Label 1 take {:.2f} percent' .format(percent_1*100))"
   ]
  },
  {
   "cell_type": "markdown",
   "id": "781ada05-6f8f-46f5-b566-67abcacedabb",
   "metadata": {},
   "source": [
    "+ So if we predict all labels to be 0, we get almost the same result"
   ]
  },
  {
   "cell_type": "markdown",
   "id": "be813e7c-5829-474f-9ce2-d897543f9258",
   "metadata": {},
   "source": [
    "### Ordinal features and resample"
   ]
  },
  {
   "cell_type": "markdown",
   "id": "08cbcaae-62e2-4704-b0c0-a4bbae956468",
   "metadata": {},
   "source": [
    "+ Resample data first and use the same algorithm to build the model"
   ]
  },
  {
   "cell_type": "code",
   "execution_count": 99,
   "id": "ebc64243-1802-4c4c-aa38-f68b58923cd2",
   "metadata": {},
   "outputs": [],
   "source": [
    "from numpy.random import MT19937\n",
    "from numpy.random import RandomState, SeedSequence\n",
    "def under_sample(label, target):\n",
    "    rand_state = RandomState(MT19937(SeedSequence(123456789)))\n",
    "    target_usamp = target[target == label]\n",
    "    target_osamp = target[target != label]\n",
    "    resampled_idx = rand_state.choice(target_osamp.index, size=len(target_usamp))\n",
    "    \n",
    "    return resampled_idx"
   ]
  },
  {
   "cell_type": "code",
   "execution_count": 103,
   "id": "5957988e-3932-437c-8207-daed1240dd3e",
   "metadata": {
    "scrolled": true,
    "tags": []
   },
   "outputs": [
    {
     "name": "stdout",
     "output_type": "stream",
     "text": [
      "(19114, 22) (19114, 22)\n"
     ]
    }
   ],
   "source": [
    "rsp_idx = under_sample(1, y_train_val)\n",
    "data_balanced_0 = train_val.loc[rsp_idx, :]\n",
    "data_label_1 = train_val[y_train_val == 1]\n",
    "print(data_balanced_0.shape, data_label_1.shape)\n",
    "data_all = pd.concat([data_balanced_0, data_label_1], axis=0)"
   ]
  },
  {
   "cell_type": "code",
   "execution_count": 104,
   "id": "0ec5e73e-8ca8-4361-886c-b3563e41e8ce",
   "metadata": {},
   "outputs": [
    {
     "data": {
      "text/plain": [
       "(38228, 22)"
      ]
     },
     "execution_count": 104,
     "metadata": {},
     "output_type": "execute_result"
    }
   ],
   "source": [
    "data_all.shape"
   ]
  },
  {
   "cell_type": "code",
   "execution_count": 105,
   "id": "9b91d910-52c5-497e-928e-f54839bd1e15",
   "metadata": {},
   "outputs": [],
   "source": [
    "X_train, X_val, y_train, y_val = train_test_split(data_all.drop(columns=[target]), data_all[target], random_state=0, test_size=0.2, stratify=data_all[target])"
   ]
  },
  {
   "cell_type": "code",
   "execution_count": 109,
   "id": "819c075e-ca76-4f4e-9a24-8b23f0492976",
   "metadata": {
    "scrolled": true,
    "tags": []
   },
   "outputs": [
    {
     "name": "stdout",
     "output_type": "stream",
     "text": [
      "[LightGBM] [Warning] Unknown parameter: feature_name\n",
      "[1]\tvalid_0's auc: 0.822593\n",
      "[2]\tvalid_0's auc: 0.82888\n",
      "[3]\tvalid_0's auc: 0.836089\n",
      "[4]\tvalid_0's auc: 0.840762\n",
      "[5]\tvalid_0's auc: 0.840335\n",
      "[6]\tvalid_0's auc: 0.841749\n",
      "[7]\tvalid_0's auc: 0.84237\n",
      "[8]\tvalid_0's auc: 0.842356\n",
      "[9]\tvalid_0's auc: 0.843462\n",
      "[10]\tvalid_0's auc: 0.844147\n",
      "[11]\tvalid_0's auc: 0.844515\n",
      "[12]\tvalid_0's auc: 0.844967\n",
      "[13]\tvalid_0's auc: 0.844874\n",
      "[14]\tvalid_0's auc: 0.844857\n",
      "[15]\tvalid_0's auc: 0.845232\n",
      "[16]\tvalid_0's auc: 0.845694\n",
      "[17]\tvalid_0's auc: 0.845801\n",
      "[18]\tvalid_0's auc: 0.846021\n",
      "[19]\tvalid_0's auc: 0.846544\n",
      "[20]\tvalid_0's auc: 0.846759\n",
      "[21]\tvalid_0's auc: 0.846526\n",
      "[22]\tvalid_0's auc: 0.846979\n",
      "[23]\tvalid_0's auc: 0.847537\n",
      "[24]\tvalid_0's auc: 0.847704\n",
      "[25]\tvalid_0's auc: 0.84796\n",
      "[26]\tvalid_0's auc: 0.848113\n",
      "[27]\tvalid_0's auc: 0.848355\n",
      "[28]\tvalid_0's auc: 0.848405\n",
      "[29]\tvalid_0's auc: 0.848494\n",
      "[30]\tvalid_0's auc: 0.848658\n",
      "[31]\tvalid_0's auc: 0.848821\n",
      "[32]\tvalid_0's auc: 0.848947\n",
      "[33]\tvalid_0's auc: 0.849085\n",
      "[34]\tvalid_0's auc: 0.849179\n",
      "[35]\tvalid_0's auc: 0.84932\n",
      "[36]\tvalid_0's auc: 0.849354\n",
      "[37]\tvalid_0's auc: 0.849437\n",
      "[38]\tvalid_0's auc: 0.849565\n",
      "[39]\tvalid_0's auc: 0.849652\n",
      "[40]\tvalid_0's auc: 0.849796\n",
      "[41]\tvalid_0's auc: 0.84983\n",
      "[42]\tvalid_0's auc: 0.849915\n",
      "[43]\tvalid_0's auc: 0.849949\n",
      "[44]\tvalid_0's auc: 0.850087\n",
      "[45]\tvalid_0's auc: 0.850188\n",
      "[46]\tvalid_0's auc: 0.850226\n",
      "[47]\tvalid_0's auc: 0.850328\n",
      "[48]\tvalid_0's auc: 0.850385\n",
      "[49]\tvalid_0's auc: 0.850528\n",
      "[50]\tvalid_0's auc: 0.850564\n",
      "[51]\tvalid_0's auc: 0.850639\n",
      "[52]\tvalid_0's auc: 0.850749\n",
      "[53]\tvalid_0's auc: 0.8508\n",
      "[54]\tvalid_0's auc: 0.850831\n",
      "[55]\tvalid_0's auc: 0.850914\n",
      "[56]\tvalid_0's auc: 0.850917\n",
      "[57]\tvalid_0's auc: 0.850932\n",
      "[58]\tvalid_0's auc: 0.850983\n",
      "[59]\tvalid_0's auc: 0.851019\n",
      "[60]\tvalid_0's auc: 0.851071\n",
      "[61]\tvalid_0's auc: 0.851141\n",
      "[62]\tvalid_0's auc: 0.851129\n",
      "[63]\tvalid_0's auc: 0.851182\n",
      "[64]\tvalid_0's auc: 0.851184\n",
      "[65]\tvalid_0's auc: 0.85121\n",
      "[66]\tvalid_0's auc: 0.85128\n",
      "[67]\tvalid_0's auc: 0.851253\n",
      "[68]\tvalid_0's auc: 0.851286\n",
      "[69]\tvalid_0's auc: 0.851344\n",
      "[70]\tvalid_0's auc: 0.851322\n",
      "[71]\tvalid_0's auc: 0.851321\n",
      "[72]\tvalid_0's auc: 0.851287\n",
      "[73]\tvalid_0's auc: 0.85132\n",
      "[74]\tvalid_0's auc: 0.85132\n",
      "[75]\tvalid_0's auc: 0.851338\n",
      "[76]\tvalid_0's auc: 0.851308\n",
      "[77]\tvalid_0's auc: 0.851323\n",
      "[78]\tvalid_0's auc: 0.851362\n",
      "[79]\tvalid_0's auc: 0.851333\n",
      "[80]\tvalid_0's auc: 0.851344\n",
      "[81]\tvalid_0's auc: 0.851315\n",
      "[82]\tvalid_0's auc: 0.851368\n",
      "[83]\tvalid_0's auc: 0.851366\n",
      "[84]\tvalid_0's auc: 0.851392\n",
      "[85]\tvalid_0's auc: 0.851378\n",
      "[86]\tvalid_0's auc: 0.851401\n",
      "[87]\tvalid_0's auc: 0.851376\n",
      "[88]\tvalid_0's auc: 0.851359\n",
      "[89]\tvalid_0's auc: 0.851418\n",
      "[90]\tvalid_0's auc: 0.851448\n",
      "[91]\tvalid_0's auc: 0.851443\n",
      "[92]\tvalid_0's auc: 0.851438\n",
      "[93]\tvalid_0's auc: 0.851456\n",
      "[94]\tvalid_0's auc: 0.851459\n",
      "[95]\tvalid_0's auc: 0.851457\n",
      "[96]\tvalid_0's auc: 0.851471\n",
      "[97]\tvalid_0's auc: 0.851454\n",
      "[98]\tvalid_0's auc: 0.851438\n",
      "[99]\tvalid_0's auc: 0.851451\n",
      "[100]\tvalid_0's auc: 0.851495\n"
     ]
    }
   ],
   "source": [
    "lgbmclf = lgb.LGBMClassifier(**params)\n",
    "lgbmclf.fit(X_train, y_train, eval_set=[(X_val, y_val)], categorical_feature = categorical_features, early_stopping_rounds=50)\n",
    "score = lgbmclf.score(X_test, y_test)"
   ]
  },
  {
   "cell_type": "code",
   "execution_count": 110,
   "id": "81f6b011-e271-4866-9ad7-a87fbcbe8015",
   "metadata": {},
   "outputs": [
    {
     "name": "stdout",
     "output_type": "stream",
     "text": [
      "0.727767265846736\n"
     ]
    }
   ],
   "source": [
    "print(score)"
   ]
  },
  {
   "cell_type": "markdown",
   "id": "1f0fbd02-78fe-479a-9a87-4c9f3a099382",
   "metadata": {},
   "source": [
    "### Target Encoding vs one_hot_encoding"
   ]
  },
  {
   "cell_type": "markdown",
   "id": "b48c378a-2a04-49a4-8b8b-ba7996b2e0a3",
   "metadata": {},
   "source": [
    "+ A random forest\n",
    "+ A logistic regression\n",
    "+ A SVM\n",
    "+ A lbgm"
   ]
  },
  {
   "cell_type": "markdown",
   "id": "292db947-c5f5-4af0-964a-1c755df17c71",
   "metadata": {},
   "source": [
    "+ Here we still use resampled data "
   ]
  },
  {
   "cell_type": "markdown",
   "id": "6cefe76b-6566-4e73-95be-0ebe0e10bef2",
   "metadata": {},
   "source": [
    "+ transform ordinal features into one_hot_encoding"
   ]
  },
  {
   "cell_type": "code",
   "execution_count": 157,
   "id": "35a45eca-8177-4f36-b47d-2673edff0a13",
   "metadata": {},
   "outputs": [],
   "source": [
    "from sklearn.preprocessing import OneHotEncoder\n",
    "def one_hot_enc(df_train, df_val, cols, is_train=True, encoder=None):\n",
    "    ohe = OneHotEncoder(handle_unknown='ignore')\n",
    "    if is_train == True:\n",
    "        ohe.fit(df_train[cols])\n",
    "        mat = ohe.transform(df_train[cols]).toarray()\n",
    "    else:\n",
    "        mat=encoder.transform(df_val[cols]).toarray()\n",
    "    one_hot_name = []\n",
    "    for col in cols:\n",
    "        for i in range(df_train[col].nunique()):\n",
    "            one_hot_name.append(col+ '_' +str(i))\n",
    "    one_hot_mat = pd.DataFrame(mat, columns=one_hot_name)\n",
    "    return one_hot_mat, ohe"
   ]
  },
  {
   "cell_type": "code",
   "execution_count": 118,
   "id": "38eedd9c-005b-4055-b12f-19892b718aad",
   "metadata": {},
   "outputs": [],
   "source": [
    "to_enc_features = ordinal_features + ['Diabetes']\n",
    "one_hot_mat, oh_encoder = one_hot_enc(data_all, ordinal_features+['Diabetes'], is_train=True)"
   ]
  },
  {
   "cell_type": "code",
   "execution_count": 125,
   "id": "9434cecf-a457-4d2f-9735-46a54707c660",
   "metadata": {},
   "outputs": [],
   "source": [
    "data_all_one_hot = pd.concat([data_all.drop(columns=to_enc_features).reset_index(), one_hot_mat], axis=1)"
   ]
  },
  {
   "cell_type": "code",
   "execution_count": 164,
   "id": "3e18e48c-7d1e-4d84-b85c-e9b45d62dc94",
   "metadata": {},
   "outputs": [],
   "source": [
    "from sklearn.svm import SVC\n",
    "from sklearn.ensemble import RandomForestClassifier\n",
    "from sklearn.linear_model import LogisticRegression\n",
    "from sklearn.compose import ColumnTransformer\n",
    "from sklearn.model_selection import StratifiedKFold\n",
    "from sklearn.preprocessing import StandardScaler\n",
    "\n",
    "def run_clfs(clfs, params, X_train_val, y_train_val, One_hot =False):\n",
    "    result_cv = {}\n",
    "    for clf in clfs:\n",
    "        result_cv[clf.__class__.__name__] = {}\n",
    "    \n",
    "    skf = StratifiedKFold(shuffle=True, random_state=0)\n",
    "    for i, (tr_idx, val_idx) in zip(range(1,6), skf.split(X_train_val, y_train_val)):\n",
    "        X_train, y_train = X_train_val.iloc[tr_idx], y_train_val.iloc[tr_idx]\n",
    "        X_val, y_val = X_train_val.iloc[val_idx], y_train_val.iloc[val_idx]\n",
    "        ### One hot encoder and standard scaler\n",
    "        if One_hot == True:\n",
    "            one_hot_mat_train, oh_encoder = one_hot_enc(X_train, X_val, ordinal_features+['Diabetes'], is_train=True)\n",
    "            one_hot_mat_val, _ = one_hot_enc(X_train, X_val, ordinal_features+['Diabetes'], is_train=False, encoder=oh_encoder)\n",
    "        \n",
    "            X_train = pd.concat([X_train.drop(columns=to_enc_features).reset_index(), one_hot_mat_train], axis=1)\n",
    "            X_val = pd.concat([X_val.drop(columns=to_enc_features).reset_index(), one_hot_mat_val], axis=1)\n",
    "        sc = StandardScaler().fit(X_train[continuous_features])\n",
    "        X_train[continuous_features] = sc.transform(X_train[continuous_features])\n",
    "        X_val[continuous_features] = sc.transform(X_val[continuous_features])\n",
    "        \n",
    "        ## run clfs\n",
    "        for clf in clfs:\n",
    "            if params[clf.__class__.__name__] != None:\n",
    "                clf.fit(X_train, y_train, **params[clf.__class__.__name__])\n",
    "            else:\n",
    "                clf.fit(X_train, y_train)\n",
    "            \n",
    "            ## performance on validation set\n",
    "            score_val = clf.score(X_val, y_val)\n",
    "            result_cv[clf.__class__.__name__ ][str(i) + '_val_score'] = score_val\n",
    "            \n",
    "    return result_cv, clfs"
   ]
  },
  {
   "cell_type": "code",
   "execution_count": 165,
   "id": "e12e5d9c-86c2-4495-b86d-1defe96b3e52",
   "metadata": {},
   "outputs": [],
   "source": [
    "clfs = [SVC(), RandomForestClassifier(), LogisticRegression()]\n",
    "params = {}\n",
    "for clf in clfs:\n",
    "    params[clf.__class__.__name__] = None\n",
    "    \n",
    "result, clfs_fitted = run_clfs(clfs, params, X_train_val=data_all.drop(columns=[target]), y_train_val=data_all[target], One_hot=True)"
   ]
  },
  {
   "cell_type": "code",
   "execution_count": 166,
   "id": "f38ab050-f97a-43d4-b311-398e46079c78",
   "metadata": {},
   "outputs": [
    {
     "data": {
      "text/html": [
       "<div>\n",
       "<style scoped>\n",
       "    .dataframe tbody tr th:only-of-type {\n",
       "        vertical-align: middle;\n",
       "    }\n",
       "\n",
       "    .dataframe tbody tr th {\n",
       "        vertical-align: top;\n",
       "    }\n",
       "\n",
       "    .dataframe thead th {\n",
       "        text-align: right;\n",
       "    }\n",
       "</style>\n",
       "<table border=\"1\" class=\"dataframe\">\n",
       "  <thead>\n",
       "    <tr style=\"text-align: right;\">\n",
       "      <th></th>\n",
       "      <th>SVC</th>\n",
       "      <th>RandomForestClassifier</th>\n",
       "      <th>LogisticRegression</th>\n",
       "    </tr>\n",
       "  </thead>\n",
       "  <tbody>\n",
       "    <tr>\n",
       "      <th>1_val_score</th>\n",
       "      <td>0.515825</td>\n",
       "      <td>0.775307</td>\n",
       "      <td>0.500262</td>\n",
       "    </tr>\n",
       "    <tr>\n",
       "      <th>2_val_score</th>\n",
       "      <td>0.507716</td>\n",
       "      <td>0.774392</td>\n",
       "      <td>0.500000</td>\n",
       "    </tr>\n",
       "    <tr>\n",
       "      <th>3_val_score</th>\n",
       "      <td>0.510463</td>\n",
       "      <td>0.771515</td>\n",
       "      <td>0.500000</td>\n",
       "    </tr>\n",
       "    <tr>\n",
       "      <th>4_val_score</th>\n",
       "      <td>0.524657</td>\n",
       "      <td>0.768215</td>\n",
       "      <td>0.499935</td>\n",
       "    </tr>\n",
       "    <tr>\n",
       "      <th>5_val_score</th>\n",
       "      <td>0.495487</td>\n",
       "      <td>0.761936</td>\n",
       "      <td>0.500196</td>\n",
       "    </tr>\n",
       "  </tbody>\n",
       "</table>\n",
       "</div>"
      ],
      "text/plain": [
       "                  SVC  RandomForestClassifier  LogisticRegression\n",
       "1_val_score  0.515825                0.775307            0.500262\n",
       "2_val_score  0.507716                0.774392            0.500000\n",
       "3_val_score  0.510463                0.771515            0.500000\n",
       "4_val_score  0.524657                0.768215            0.499935\n",
       "5_val_score  0.495487                0.761936            0.500196"
      ]
     },
     "execution_count": 166,
     "metadata": {},
     "output_type": "execute_result"
    }
   ],
   "source": [
    "result_df_ = pd.DataFrame(result)\n",
    "result_df_ ## result that I use one hot"
   ]
  },
  {
   "cell_type": "code",
   "execution_count": 160,
   "id": "1dfcdb16-d9d5-40a1-b67d-34a7353bfc08",
   "metadata": {},
   "outputs": [
    {
     "data": {
      "text/html": [
       "<div>\n",
       "<style scoped>\n",
       "    .dataframe tbody tr th:only-of-type {\n",
       "        vertical-align: middle;\n",
       "    }\n",
       "\n",
       "    .dataframe tbody tr th {\n",
       "        vertical-align: top;\n",
       "    }\n",
       "\n",
       "    .dataframe thead th {\n",
       "        text-align: right;\n",
       "    }\n",
       "</style>\n",
       "<table border=\"1\" class=\"dataframe\">\n",
       "  <thead>\n",
       "    <tr style=\"text-align: right;\">\n",
       "      <th></th>\n",
       "      <th>SVC</th>\n",
       "      <th>RandomForestClassifier</th>\n",
       "      <th>LogisticRegression</th>\n",
       "    </tr>\n",
       "  </thead>\n",
       "  <tbody>\n",
       "    <tr>\n",
       "      <th>1_val_score</th>\n",
       "      <td>0.764583</td>\n",
       "      <td>0.770076</td>\n",
       "      <td>0.770337</td>\n",
       "    </tr>\n",
       "    <tr>\n",
       "      <th>2_val_score</th>\n",
       "      <td>0.772299</td>\n",
       "      <td>0.774523</td>\n",
       "      <td>0.779623</td>\n",
       "    </tr>\n",
       "    <tr>\n",
       "      <th>3_val_score</th>\n",
       "      <td>0.767460</td>\n",
       "      <td>0.771515</td>\n",
       "      <td>0.772168</td>\n",
       "    </tr>\n",
       "    <tr>\n",
       "      <th>4_val_score</th>\n",
       "      <td>0.767691</td>\n",
       "      <td>0.765337</td>\n",
       "      <td>0.764421</td>\n",
       "    </tr>\n",
       "    <tr>\n",
       "      <th>5_val_score</th>\n",
       "      <td>0.758012</td>\n",
       "      <td>0.766383</td>\n",
       "      <td>0.764683</td>\n",
       "    </tr>\n",
       "  </tbody>\n",
       "</table>\n",
       "</div>"
      ],
      "text/plain": [
       "                  SVC  RandomForestClassifier  LogisticRegression\n",
       "1_val_score  0.764583                0.770076            0.770337\n",
       "2_val_score  0.772299                0.774523            0.779623\n",
       "3_val_score  0.767460                0.771515            0.772168\n",
       "4_val_score  0.767691                0.765337            0.764421\n",
       "5_val_score  0.758012                0.766383            0.764683"
      ]
     },
     "execution_count": 160,
     "metadata": {},
     "output_type": "execute_result"
    }
   ],
   "source": [
    "result_df = pd.DataFrame(result)\n",
    "result_df ## result that I forget use one hot"
   ]
  },
  {
   "cell_type": "code",
   "execution_count": 163,
   "id": "290da832-fb7c-4e5e-b828-644871b6fef8",
   "metadata": {},
   "outputs": [
    {
     "name": "stdout",
     "output_type": "stream",
     "text": [
      "SVC\n",
      "0.7558932513402712\n",
      "RandomForestClassifier\n",
      "0.7303492589088616\n",
      "LogisticRegression\n",
      "0.6376340271207821\n"
     ]
    }
   ],
   "source": [
    "for clf in clfs_fitted:\n",
    "    print(clf.__class__.__name__)\n",
    "    print(clf.score(X_test, y_test))"
   ]
  },
  {
   "cell_type": "markdown",
   "id": "9fa7facb-f708-47d0-b8de-5cf5a9b4e889",
   "metadata": {},
   "source": [
    "+ Compare with the accuracy above"
   ]
  },
  {
   "cell_type": "markdown",
   "id": "84467d0e-d247-4c89-9347-29ae8a4483c8",
   "metadata": {},
   "source": [
    "### label encoding"
   ]
  },
  {
   "cell_type": "code",
   "execution_count": null,
   "id": "cb4e39d0-cf2c-4dc3-ad3a-5b431c1d2eb6",
   "metadata": {},
   "outputs": [],
   "source": [
    "from sklearn.model_selection import StratifiedKFold\n",
    "def mean_enc(df, target, cols):\n",
    "    skf = StratifiedKFold(n_splits=5, shuffle=True, random_state=0)\n",
    "    for tr_idx, val_idx in skf.split(X, y):\n",
    "        X_train, X_val = df.iloc[tr_idx], df.iloc[val_idx]\n",
    "        for col in cols:\n",
    "            mean_ = X_train.groupby(by=col)['target'].mean()\n",
    "            X_val[col+'_mean_taregt'] = X_val[col].apply(mean)\n",
    "        df_new_mean.iloc[val_idx] = X_val\n",
    "    global_mean = df.target.mean()\n",
    "    df_new.fillna(global_mean, inplace=True)\n",
    "    return df_new"
   ]
  },
  {
   "cell_type": "code",
   "execution_count": null,
   "id": "b902efa3-91fc-4c78-a085-3f1e8380a8d3",
   "metadata": {},
   "outputs": [],
   "source": []
  }
 ],
 "metadata": {
  "kernelspec": {
   "display_name": "Python 3 (ipykernel)",
   "language": "python",
   "name": "python3"
  },
  "language_info": {
   "codemirror_mode": {
    "name": "ipython",
    "version": 3
   },
   "file_extension": ".py",
   "mimetype": "text/x-python",
   "name": "python",
   "nbconvert_exporter": "python",
   "pygments_lexer": "ipython3",
   "version": "3.9.7"
  },
  "widgets": {
   "application/vnd.jupyter.widget-state+json": {
    "state": {},
    "version_major": 2,
    "version_minor": 0
   }
  }
 },
 "nbformat": 4,
 "nbformat_minor": 5
}
